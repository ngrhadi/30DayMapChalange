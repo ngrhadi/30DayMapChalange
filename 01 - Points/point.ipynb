{
 "cells": [
  {
   "cell_type": "code",
   "execution_count": 10,
   "metadata": {},
   "outputs": [
    {
     "data": {
      "text/plain": [
       "{'last_clicked': None,\n",
       " 'last_object_clicked': None,\n",
       " 'all_drawings': None,\n",
       " 'last_active_drawing': None,\n",
       " 'bounds': {'_southWest': {'lat': -8.765795284120145,\n",
       "   'lng': 97.92565289150724},\n",
       "  '_northEast': {'lat': 3.8823414110369896, 'lng': 121.81207602896927}},\n",
       " 'zoom': 5,\n",
       " 'last_circle_radius': None,\n",
       " 'last_circle_polygon': None}"
      ]
     },
     "execution_count": 10,
     "metadata": {},
     "output_type": "execute_result"
    }
   ],
   "source": [
    "import streamlit as st\n",
    "from streamlit_folium import st_folium\n",
    "import folium\n",
    "import json\n",
    "import requests\n",
    "\n",
    "url = \"https://gist.githubusercontent.com/ngrhadi/15308f7553ad0f5f85a069eebc10f848/raw/262728bd432c84518814a660c0a9dc51364c7ca8\"\n",
    "\n",
    "x = 5\n",
    "y = 110.6750\n",
    "z = -1.5236\n",
    "\n",
    "data = f\"{url}/onduty.json\"\n",
    "m = folium.Map(\n",
    "  location=[z , y],\n",
    "  zoom_start=x,\n",
    "  tiles='https://server.arcgisonline.com/ArcGIS/rest/services/World_Street_Map/MapServer/tile/{z}/{y}/{x}',\n",
    "  attr='Esri - World_Street_Map'\n",
    ")\n",
    "\n",
    "point = folium.GeoJson(\n",
    "  data, \n",
    "  name=\"geojson\"\n",
    ").add_to(m)\n",
    "\n",
    "fg = folium.FeatureGroup('markers')\n",
    "\n",
    "for feature in point.data['features']:\n",
    "    if feature['geometry']['type'] == 'Point':\n",
    "        folium.Marker(location=list(reversed(feature['geometry']['coordinates'])),\n",
    "            icon=folium.Icon(prefix='fa', color=\"red\", icon=\"fa-fire\" ),\n",
    "            category=feature['id'],\n",
    "            tooltip=feature['id'],\n",
    "            popup=feature['properties']['status']\n",
    "        ).add_to(fg)\n",
    "fg.add_to(m)\n",
    "m\n",
    "st_data = st_folium(m, width = 725)\n",
    "\n",
    "st_data\n"
   ]
  }
 ],
 "metadata": {
  "kernelspec": {
   "display_name": "Python 3.10.8 ('env': venv)",
   "language": "python",
   "name": "python3"
  },
  "language_info": {
   "codemirror_mode": {
    "name": "ipython",
    "version": 3
   },
   "file_extension": ".py",
   "mimetype": "text/x-python",
   "name": "python",
   "nbconvert_exporter": "python",
   "pygments_lexer": "ipython3",
   "version": "3.10.8"
  },
  "orig_nbformat": 4,
  "vscode": {
   "interpreter": {
    "hash": "7e0724295bba179365a8745e7f95287f50a167b4c02c7e9203579a1bcd14e00f"
   }
  }
 },
 "nbformat": 4,
 "nbformat_minor": 2
}
